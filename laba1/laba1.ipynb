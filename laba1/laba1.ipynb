{
 "cells": [
  {
   "cell_type": "markdown",
   "metadata": {
    "id": "M-DGa20PaHnu"
   },
   "source": [
    "# Задача 1\n",
    "Написать функцию на вход которой подается строка, состоящая из латинских букв.\n",
    "Функция должна вернуть количество гласных букв (a, e, i, o, u) в этой строке. Написать тесты для кода"
   ]
  },
  {
   "cell_type": "code",
   "execution_count": 2,
   "metadata": {
    "id": "XvX8X_JJ6PCb"
   },
   "outputs": [
    {
     "name": "stdout",
     "output_type": "stream",
     "text": [
      "Результат для строки \"ababa\":  3\n",
      "Результат для строки \"kkkkk\":  0\n",
      "Результат для строки \"janbdjanbd\":  2\n",
      "Результат для строки \"ABAba\":  3\n"
     ]
    }
   ],
   "source": [
    "def func(string): \n",
    "    letters = 'euioa'\n",
    "    count = 0\n",
    "    for letter in string:\n",
    "        if letter.lower() in letters:\n",
    "            count += 1\n",
    "    return count\n",
    "    \n",
    "inputs = [\n",
    "    'ababa', # 3\n",
    "    'kkkkk', # 0\n",
    "    'janbdjanbd', # 2\n",
    "    'ABAba', # 3\n",
    "]\n",
    "\n",
    "for test in inputs:\n",
    "    print(f'Результат для строки \"{test}\": ', func(test))"
   ]
  },
  {
   "cell_type": "markdown",
   "metadata": {
    "id": "t2ClV_Y0bbr6"
   },
   "source": [
    "# Задача 2\n",
    "Написать функцию на вход, которой подается строка. Функция должна вернуть true, если\n",
    "каждый символ в строке встречается только 1 раз, иначе должна вернуть false. Написать тесты для кода"
   ]
  },
  {
   "cell_type": "code",
   "execution_count": 3,
   "metadata": {
    "id": "FppbECao6VIz"
   },
   "outputs": [
    {
     "name": "stdout",
     "output_type": "stream",
     "text": [
      "Результат для строки \"abc\":  True\n",
      "Результат для строки \"abca\":  False\n",
      "Результат для строки \"AabB\":  True\n"
     ]
    }
   ],
   "source": [
    "def unique(string):\n",
    "    string = list(string)\n",
    "    return len(string) == len(set(string))\n",
    "\n",
    "inputs = [\n",
    "    'abc', # true\n",
    "    'abca', # false\n",
    "    'AabB', # true\n",
    "]\n",
    "\n",
    "for test in inputs:\n",
    "    print(f'Результат для строки \"{test}\": ', unique(test))"
   ]
  },
  {
   "cell_type": "markdown",
   "metadata": {
    "id": "udRiIK1cdt6E"
   },
   "source": [
    "# Задача 3\n",
    "Написать функцию, которая принимает положительное число и возвращает количество\n",
    "бит равных 1 в этом числе. Написать тесты для кода"
   ]
  },
  {
   "cell_type": "code",
   "execution_count": 13,
   "metadata": {
    "id": "6tkfDJRz6dp_"
   },
   "outputs": [
    {
     "name": "stdout",
     "output_type": "stream",
     "text": [
      "Результат для числа \"2\":  1\n",
      "Результат для числа \"3\":  2\n",
      "Результат для числа \"67\":  3\n"
     ]
    }
   ],
   "source": [
    "def count_bits(number):\n",
    "    if number <= 0:\n",
    "        return 0\n",
    "    number = bin(number)\n",
    "    return number[2::].count('1')\n",
    "\n",
    "inputs = [\n",
    "    2, # 10 - 1\n",
    "    3, # 11 - 2\n",
    "    67, # 1000011 - 3\n",
    "]\n",
    "\n",
    "for test in inputs:\n",
    "    print(f'Результат для числа \"{test}\": ', count_bits(test))"
   ]
  },
  {
   "cell_type": "markdown",
   "metadata": {
    "id": "26dDUz-Ae17N"
   },
   "source": [
    "# Задача 4\n",
    "Написать функцию, которая принимает положительное число. Функция должна вернуть то,\n",
    "сколько раз необходимо перемножать цифры числа или результат перемножения, чтобы\n",
    "получилось число состоящее из одной цифры.\n",
    "Например, для входного числа:\n",
    "· 39 функция должна вернуть 3, так как 3*9=27 => 2*7=14 => 1*4=4\n",
    "· 4 функция должна вернуть 0, так как число уже состоит из одной цифры\n",
    "· 999 функция должна вернуть 4, так как 9*9*9=729 => 7*2*9=126 => 1*2*6=12 =>\n",
    "1*2=2. Написать тесты для кода"
   ]
  },
  {
   "cell_type": "code",
   "execution_count": 15,
   "metadata": {
    "id": "BH1A_Mgi6i4G"
   },
   "outputs": [
    {
     "name": "stdout",
     "output_type": "stream",
     "text": [
      "Результат для числа \"39\":  3\n",
      "Результат для числа \"3\":  0\n",
      "Результат для числа \"999\":  4\n"
     ]
    }
   ],
   "source": [
    "def magic(n):\n",
    "    count = 0\n",
    "    while n >= 10:\n",
    "        numbers = [int(x) for x in str(n)]\n",
    "        res = 1\n",
    "        for num in numbers:\n",
    "            res *= num\n",
    "        n = res\n",
    "        count += 1\n",
    "    return count\n",
    "\n",
    "inputs = [\n",
    "    39, # 3\n",
    "    3, # 0\n",
    "    999, # 4\n",
    "]\n",
    "\n",
    "for test in inputs:\n",
    "    print(f'Результат для числа \"{test}\": ', magic(test))"
   ]
  },
  {
   "cell_type": "markdown",
   "metadata": {
    "id": "0nS-kIa8g8vd"
   },
   "source": [
    "# Задача 5\n",
    "Написать функцию, которая принимает два целочисленных вектора одинаковой длины и\n",
    "возвращает среднеквадратическое отклонение двух векторов. Написать тесты для кода"
   ]
  },
  {
   "cell_type": "code",
   "execution_count": 11,
   "metadata": {
    "id": "8iphx4LM6xbx"
   },
   "outputs": [
    {
     "name": "stdout",
     "output_type": "stream",
     "text": [
      "Результат для \"([34, 37, 44, 47, 48, 48, 46, 43, 32, 27, 26, 24], [37, 40, 46, 44, 46, 50, 45, 44, 34, 30, 22, 23])\":  5.916666666666667\n",
      "Результат для \"([16, 17, 23, 11, 16, 32], [12, 21, 28, 15, 5, 41])\":  45.833333333333336\n"
     ]
    }
   ],
   "source": [
    "def mse(pred, true):\n",
    "    res = sum([(x - y) ** 2 for (x, y) in zip(pred, true)]) / len(pred)\n",
    "    return res\n",
    "\n",
    "\n",
    "inputs = [\n",
    "    [[34, 37, 44, 47, 48, 48, 46, 43, 32, 27, 26, 24], [37, 40, 46, 44, 46, 50, 45, 44, 34, 30, 22, 23]], # 5,92\n",
    "    [[16, 17, 23, 11, 16, 32], [12, 21, 28, 15, 5, 41]], # 45,83\n",
    "]\n",
    "\n",
    "for test in inputs:\n",
    "    print(f'Результат для \"{test[0], test[1]}\": ', mse(test[0], test[1]))"
   ]
  },
  {
   "cell_type": "markdown",
   "metadata": {
    "id": "vpIPKL439zkw"
   },
   "source": [
    "# Задача 6\n",
    "Написать функцию, принимающая целое положительное число. Функция должна вернуть\n",
    "строку вида “(n1**p1)(n2**p2)…(nk**pk)” представляющая разложение числа на простые\n",
    "множители (если pi == 1, то выводить только ni).\n",
    "Например, для числа 86240 функция должна вернуть “(2**5)(5)(7**2)(11)”. Написать тесты для кода"
   ]
  },
  {
   "cell_type": "code",
   "execution_count": 2,
   "metadata": {
    "id": "pFebmcZk94Jw"
   },
   "outputs": [
    {
     "name": "stdout",
     "output_type": "stream",
     "text": [
      "Результат для 1008: (2^4)*(3^2)*(7)\n",
      "Результат для 86240: (2^5)*(5)*(7^2)*(11)\n"
     ]
    }
   ],
   "source": [
    "def func(number):\n",
    "    numbers = {}\n",
    "    for i in range(2, int(number ** 0.5) + 1):\n",
    "        while number % i == 0:\n",
    "            if i not in numbers:\n",
    "                numbers[i] = 1\n",
    "            else:\n",
    "                numbers[i] += 1\n",
    "            number //= i\n",
    "    res = ''\n",
    "    for key in numbers:\n",
    "        if numbers[key] > 1:\n",
    "            res += f'({key}^{numbers[key]})*'\n",
    "        else:\n",
    "            res += f'({key})*'\n",
    "    return res[:-1]\n",
    "\n",
    "\n",
    "inputs = [\n",
    "    1008, # 2^4 * 3^2 * 7\n",
    "    86240, # 2^5 * 5 * 7^2 * 11\n",
    "]\n",
    "\n",
    "for test in inputs:\n",
    "    print(f'Результат для {test}: {func(test)}')"
   ]
  },
  {
   "cell_type": "markdown",
   "metadata": {
    "id": "ps2s0BudX7A2"
   },
   "source": [
    "# Задача 7\n",
    "Написать функцию, принимающая целое число n, задающее количество кубиков. Функция\n",
    "должна определить, можно ли из данного кол-ва кубиков построить пирамиду, то есть\n",
    "можно ли представить число n как 1^2+2^2+3^2+…+k^2. Если можно, то функция должна\n",
    "вернуть k, иначе строку “It is impossible”. Написать тесты для кода"
   ]
  },
  {
   "cell_type": "code",
   "execution_count": 19,
   "metadata": {
    "id": "3YPjEXxhX_YT"
   },
   "outputs": [
    {
     "name": "stdout",
     "output_type": "stream",
     "text": [
      "Результат для числа \"1\":  1\n",
      "Результат для числа \"5\":  2\n",
      "Результат для числа \"14\":  3\n",
      "Результат для числа \"15\":  It is impossible\n",
      "Результат для числа \"30\":  4\n"
     ]
    }
   ],
   "source": [
    "def pyramid(number):\n",
    "    res = 0\n",
    "    k = 0\n",
    "    while res < number:\n",
    "        k += 1\n",
    "        res += k ** 2\n",
    "    if res == number:\n",
    "        return k\n",
    "    return 'It is impossible'\n",
    "\n",
    "\n",
    "inputs = [\n",
    "    1, # 1\n",
    "    5, # 2\n",
    "    14, # 3\n",
    "    15, # It is impossible\n",
    "    30, # 4\n",
    "]\n",
    "\n",
    "for test in inputs:\n",
    "    print(f'Результат для числа \"{test}\": ', pyramid(test))"
   ]
  },
  {
   "cell_type": "markdown",
   "metadata": {
    "id": "KeKgmIdAQMEJ"
   },
   "source": [
    "# Задача 8\n",
    "Функция принимает на вход положительное число и определяет является ли оно сбалансированным, т.е. сумма цифр до средних равна сумме цифр после. Средними в случае нечетного числа цифр считать одну цифру, в случае четного - две средних. Написать тесты для кода"
   ]
  },
  {
   "cell_type": "code",
   "execution_count": 3,
   "metadata": {
    "id": "gMAAqtqlQrZt"
   },
   "outputs": [
    {
     "name": "stdout",
     "output_type": "stream",
     "text": [
      "Результат для 1412431324: False\n",
      "Результат для 231234225: False\n",
      "Результат для 23443234: True\n",
      "Результат для 1241601: True\n"
     ]
    }
   ],
   "source": [
    "def is_balansed(number):\n",
    "    number = str(number)\n",
    "    if (length := len(number)) % 2:\n",
    "        average = length // 2\n",
    "        return sum([int(x) for x in number[:average:]]) == sum([int(x) for x in number[average+1::]])\n",
    "    else:\n",
    "        average = length // 2\n",
    "        return sum([int(x) for x in number[:average - 1:]]) == sum([int(x) for x in number[average+1::]])\n",
    "    \n",
    "inputs = [\n",
    "    1412431324, # 1 + 4 + 1 + 2 != 1 + 3 + 2 + 4 -> False\n",
    "    231234225, # 2 + 3 + 1 + 2 != 4 + 2 + 2 + 5 -> False\n",
    "    23443234, # 2 + 3 + 4 == 2 + 3 + 4 -> True\n",
    "    1241601 # 1 + 2 + 4 == 6 + 0 + 1 -> True\n",
    "]\n",
    "\n",
    "for test in inputs:\n",
    "    print(f'Результат для {test}: {is_balansed(test)}')"
   ]
  }
 ],
 "metadata": {
  "colab": {
   "provenance": []
  },
  "kernelspec": {
   "display_name": "Python 3 (ipykernel)",
   "language": "python",
   "name": "python3"
  },
  "language_info": {
   "codemirror_mode": {
    "name": "ipython",
    "version": 3
   },
   "file_extension": ".py",
   "mimetype": "text/x-python",
   "name": "python",
   "nbconvert_exporter": "python",
   "pygments_lexer": "ipython3",
   "version": "3.11.2"
  }
 },
 "nbformat": 4,
 "nbformat_minor": 1
}

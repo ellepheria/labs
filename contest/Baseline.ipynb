{
 "cells": [
  {
   "cell_type": "markdown",
   "id": "ab005109-43db-4f23-b57a-cc8d5999de58",
   "metadata": {},
   "source": [
    "# Обучение модели"
   ]
  },
  {
   "cell_type": "code",
   "execution_count": null,
   "id": "a6d2005c-8194-4930-bb17-25c29f6569ae",
   "metadata": {
    "tags": []
   },
   "outputs": [],
   "source": [
    "import pandas as pd\n",
    "import numpy as np\n",
    "from sklearn.model_selection import train_test_split\n",
    "from sklearn.tree import DecisionTreeClassifier\n",
    "from sklearn.preprocessing import LabelEncoder"
   ]
  },
  {
   "cell_type": "code",
   "execution_count": null,
   "id": "a88d3162-7d71-4ae6-8771-d7a6518f21a7",
   "metadata": {
    "tags": []
   },
   "outputs": [],
   "source": [
    "train_df = pd.read_csv('train.csv')"
   ]
  },
  {
   "cell_type": "code",
   "execution_count": null,
   "id": "453d8160-dba6-4e96-809a-19574c45cbca",
   "metadata": {
    "tags": []
   },
   "outputs": [],
   "source": [
    "train_df.head()"
   ]
  },
  {
   "cell_type": "code",
   "execution_count": null,
   "id": "30e2096e-f78f-4405-b09e-fd1fde82eae9",
   "metadata": {
    "tags": []
   },
   "outputs": [],
   "source": [
    "label_encoder = LabelEncoder()\n",
    "\n",
    "for column in train_df.columns:\n",
    "    if train_df[column].dtype == 'object':\n",
    "        train_df[column] = label_encoder.fit_transform(train_df[column])"
   ]
  },
  {
   "cell_type": "code",
   "execution_count": null,
   "id": "b5975678-ae6b-4e87-98bb-41a81d82e94c",
   "metadata": {
    "tags": []
   },
   "outputs": [],
   "source": [
    "train_df.head()"
   ]
  },
  {
   "cell_type": "code",
   "execution_count": null,
   "id": "d4726729-8ecb-46da-8402-86255f512454",
   "metadata": {
    "tags": []
   },
   "outputs": [],
   "source": [
    "X, y = train_df.drop(['LeaveOrNot'], axis=1).to_numpy(), train_df['LeaveOrNot'].to_numpy()"
   ]
  },
  {
   "cell_type": "code",
   "execution_count": null,
   "id": "ca59b5cf-b64f-4398-8048-b5b1056083a9",
   "metadata": {
    "tags": []
   },
   "outputs": [],
   "source": [
    "tree = DecisionTreeClassifier()"
   ]
  },
  {
   "cell_type": "code",
   "execution_count": null,
   "id": "239cc081-979b-4225-85c5-cea2a753214d",
   "metadata": {
    "tags": []
   },
   "outputs": [],
   "source": [
    "tree.fit(X, y)"
   ]
  },
  {
   "cell_type": "markdown",
   "id": "6a9cca1b-889f-4452-b515-f73ed14da8f5",
   "metadata": {},
   "source": [
    "# Submission"
   ]
  },
  {
   "cell_type": "code",
   "execution_count": null,
   "id": "83cc0559-6859-45d1-b4ec-812c0370a6f8",
   "metadata": {
    "tags": []
   },
   "outputs": [],
   "source": [
    "test_df = pd.read_csv('test.csv')"
   ]
  },
  {
   "cell_type": "code",
   "execution_count": null,
   "id": "43cffab9-db81-4945-b142-16eca2f48112",
   "metadata": {
    "tags": []
   },
   "outputs": [],
   "source": [
    "for column in test_df.columns:\n",
    "    if test_df[column].dtype == 'object':\n",
    "        test_df[column] = label_encoder.fit_transform(test_df[column])"
   ]
  },
  {
   "cell_type": "code",
   "execution_count": null,
   "id": "23a6f434-6616-415e-b036-64f60d7973db",
   "metadata": {
    "tags": []
   },
   "outputs": [],
   "source": [
    "pred = tree.predict(test_df.to_numpy())"
   ]
  },
  {
   "cell_type": "code",
   "execution_count": null,
   "id": "316c5dfa-94db-454e-9c46-77ec79a7a2d5",
   "metadata": {
    "tags": []
   },
   "outputs": [],
   "source": [
    "d = pd.DataFrame({'ID': list(range(len(pred))), 'LeaveOrNot': pred})\n",
    "d.to_csv('submission.csv', index=False)"
   ]
  }
 ],
 "metadata": {
  "kernelspec": {
   "display_name": "Python 3 (ipykernel)",
   "language": "python",
   "name": "python3"
  },
  "language_info": {
   "codemirror_mode": {
    "name": "ipython",
    "version": 3
   },
   "file_extension": ".py",
   "mimetype": "text/x-python",
   "name": "python",
   "nbconvert_exporter": "python",
   "pygments_lexer": "ipython3",
   "version": "3.11.5"
  }
 },
 "nbformat": 4,
 "nbformat_minor": 5
}
